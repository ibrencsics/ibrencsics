{
 "cells": [
  {
   "cell_type": "markdown",
   "metadata": {},
   "source": [
    "# Cryptocurrency Analysis with Python - MACD"
   ]
  },
  {
   "cell_type": "markdown",
   "metadata": {},
   "source": [
    "Cryptocurrencies are becoming mainstream so I've decided to spend the weekend learning about it. \n",
    "I've hacked together the \n",
    "[code]({{site.url}}/assets/notebooks/2017-12-10-cryptocurrency-analysis-with-python-part1.ipynb)\n",
    "to download daily Bitcoin prices and apply a simple trading strategy to it. \n",
    "\n",
    "Note that there already exists tools for performing this kind of analysis, eg. \n",
    "[tradeview](https://www.tradingview.com/), but this way enables more in-depth analysis.\n",
    "\n",
    "Check out my [next blog post]({{site.url}}/cryptocurrency/analysis/2017/12/25/cryptocurrency-analysis-with-python-part2.html), \n",
    "where I describe buy and hold strategy and follow me on [twitter](https://twitter.com/romanorac) to get latest updates.\n",
    "\n",
    "\n",
    "<img src=\"{{site.url}}/assets/2017-12-10-visualizing_trading_strategy.gif\" alt=\"Visualizing Trading Strategy Animation\">"
   ]
  },
  {
   "cell_type": "markdown",
   "metadata": {},
   "source": [
    "## Disclaimer\n",
    "I am not a trader and this blog post is not a financial advice. This is purely introductory knowledge."
   ]
  },
  {
   "cell_type": "markdown",
   "metadata": {},
   "source": [
    "## Requirements\n",
    "\n",
    "- Python 3\n",
    "\n",
    "- [Jupyter Notebook](http://jupyter.org/)\n",
    "\n",
    "- [Pandas Data Analysis Library](https://pandas.pydata.org/) \n",
    "\n",
    "- [Bokeh interactive visualization library](https://bokeh.pydata.org/en/latest/)\n",
    "\n",
    "- [stock Statistics/Indicators Calculation Helper](https://github.com/jealous/stockstats)"
   ]
  },
  {
   "cell_type": "markdown",
   "metadata": {},
   "source": [
    "## Getting cryptocurrency data\n",
    "\n",
    "We download daily Bitcoin data in USD on Bitstamp exchange. [Other exchanges](https://www.cryptocompare.com/api/#introduction) are also supported.  "
   ]
  },
  {
   "cell_type": "code",
   "execution_count": 1,
   "metadata": {},
   "outputs": [],
   "source": [
    "from_symbol = 'BTC'\n",
    "to_symbol = 'USD'\n",
    "exchange = 'Bitstamp'\n",
    "datetime_interval = 'day'"
   ]
  },
  {
   "cell_type": "markdown",
   "metadata": {},
   "source": [
    "The [cryptocompare api](https://www.cryptocompare.com/api/#introduction) returns following columns:\n",
    " - **open**, the price at which the period opened,\n",
    " - **high**, the highest price reached during the period,\n",
    " - **low**, the lowest price reached during the period,\n",
    " - **close**, the price at which the period closed,\n",
    " - **volumefrom**, the volume in the base currency that things are traded into,\n",
    " - **volumeto**, the volume in the currency that is being traded.\n",
    " \n",
    "We download the data and store it to a file."
   ]
  },
  {
   "cell_type": "code",
   "execution_count": 3,
   "metadata": {},
   "outputs": [
    {
     "name": "stdout",
     "output_type": "stream",
     "text": [
      "Downloading day trading data for BTC USD from Bitstamp\n",
      "Filtering 0 empty datapoints\n",
      "Saving data to BTC_USD_Bitstamp_day_2021-12-22.csv\n"
     ]
    },
    {
     "name": "stderr",
     "output_type": "stream",
     "text": [
      "/home/ivan/.local/lib/python3.7/site-packages/ipykernel_launcher.py:27: FutureWarning: pandas.io.json.json_normalize is deprecated, use pandas.json_normalize instead\n"
     ]
    }
   ],
   "source": [
    "import requests\n",
    "from datetime import datetime\n",
    "\n",
    "\n",
    "def get_filename(from_symbol, to_symbol, exchange, datetime_interval, download_date):\n",
    "    return '%s_%s_%s_%s_%s.csv' % (from_symbol, to_symbol, exchange, datetime_interval, download_date)\n",
    "\n",
    "\n",
    "def download_data(from_symbol, to_symbol, exchange, datetime_interval):\n",
    "    supported_intervals = {'minute', 'hour', 'day'}\n",
    "    assert datetime_interval in supported_intervals,           'datetime_interval should be one of %s' % supported_intervals\n",
    "\n",
    "    print('Downloading %s trading data for %s %s from %s' %\n",
    "          (datetime_interval, from_symbol, to_symbol, exchange))\n",
    "    base_url = 'https://min-api.cryptocompare.com/data/histo'\n",
    "    url = '%s%s' % (base_url, datetime_interval)\n",
    "\n",
    "    params = {'fsym': from_symbol, 'tsym': to_symbol,\n",
    "              'limit': 2000, 'aggregate': 1,\n",
    "              'e': exchange}\n",
    "    request = requests.get(url, params=params)\n",
    "    data = request.json()\n",
    "    return data\n",
    "\n",
    "\n",
    "def convert_to_dataframe(data):\n",
    "    df = pd.io.json.json_normalize(data, ['Data'])\n",
    "    df['datetime'] = pd.to_datetime(df.time, unit='s')\n",
    "    df = df[['datetime', 'low', 'high', 'open',\n",
    "             'close', 'volumefrom', 'volumeto']]\n",
    "    return df\n",
    "\n",
    "\n",
    "def filter_empty_datapoints(df):\n",
    "    indices = df[df.sum(axis=1) == 0].index\n",
    "    print('Filtering %d empty datapoints' % indices.shape[0])\n",
    "    df = df.drop(indices)\n",
    "    return df\n",
    "\n",
    "\n",
    "data = download_data(from_symbol, to_symbol, exchange, datetime_interval)\n",
    "df = convert_to_dataframe(data)\n",
    "df = filter_empty_datapoints(df)\n",
    "\n",
    "current_datetime = datetime.now().date().isoformat()\n",
    "filename = get_filename(from_symbol, to_symbol, exchange, datetime_interval, current_datetime)\n",
    "print('Saving data to %s' % filename)\n",
    "df.to_csv(filename, index=False)"
   ]
  },
  {
   "cell_type": "markdown",
   "metadata": {},
   "source": [
    "## Read the data\n",
    "\n",
    "We read the data from a file so we don't need to download it again."
   ]
  },
  {
   "cell_type": "code",
   "execution_count": 4,
   "metadata": {},
   "outputs": [
    {
     "name": "stdout",
     "output_type": "stream",
     "text": [
      "Reading data from BTC_USD_Bitstamp_day_2021-12-22.csv\n",
      "(2001, 6)\n"
     ]
    }
   ],
   "source": [
    "import pandas as pd\n",
    "\n",
    "def read_dataset(filename):\n",
    "    print('Reading data from %s' % filename)\n",
    "    df = pd.read_csv(filename)\n",
    "    df.datetime = pd.to_datetime(df.datetime) # change type from object to datetime\n",
    "    df = df.set_index('datetime') \n",
    "    df = df.sort_index() # sort by datetime\n",
    "    print(df.shape)\n",
    "    return df\n",
    "\n",
    "df = read_dataset(filename)"
   ]
  },
  {
   "cell_type": "markdown",
   "metadata": {},
   "source": [
    "##  Trading strategy\n",
    "\n",
    "A trading strategy is a set of objective rules defining the conditions that must be met for a trade entry and exit to occur. \n",
    "\n",
    "We are going to apply Moving Average Convergence Divergence (MACD) trading strategy, which is a popular indicator used in technical analysis. \n",
    "MACD calculates two moving averages of varying lengths to identify trend direction and duration.\n",
    "Then, it takes the difference in values between those two moving averages (MACD line) \n",
    "and an exponential moving average (signal line) of those moving averages.\n",
    "Tradeview has a great blog post about [MACD](https://www.tradingview.com/wiki/MACD_).\n",
    "\n",
    "As we can see in the example below:\n",
    "- exit trade (sell) when MACD line crosses below the MACD signal line,\n",
    "- enter trade (buy) when MACD line crosses above the MACD signal line. \n",
    "\n",
    "![]( http://www.onlinetradingconcepts.com/images/technicalanalysis/MACDbuysellaltNQ.gif \"MACD\")"
   ]
  },
  {
   "cell_type": "markdown",
   "metadata": {},
   "source": [
    "## Calculate the trading strategy\n",
    "We use [stockstats](https://github.com/jealous/stockstats) package to calculate MACD."
   ]
  },
  {
   "cell_type": "code",
   "execution_count": 7,
   "metadata": {},
   "outputs": [
    {
     "ename": "ModuleNotFoundError",
     "evalue": "No module named 'stockstats'",
     "output_type": "error",
     "traceback": [
      "\u001b[0;31m---------------------------------------------------------------------------\u001b[0m",
      "\u001b[0;31mModuleNotFoundError\u001b[0m                       Traceback (most recent call last)",
      "\u001b[0;32m<ipython-input-7-32b19fd96299>\u001b[0m in \u001b[0;36m<module>\u001b[0;34m\u001b[0m\n\u001b[0;32m----> 1\u001b[0;31m \u001b[0;32mfrom\u001b[0m \u001b[0mstockstats\u001b[0m \u001b[0;32mimport\u001b[0m \u001b[0mStockDataFrame\u001b[0m\u001b[0;34m\u001b[0m\u001b[0;34m\u001b[0m\u001b[0m\n\u001b[0m\u001b[1;32m      2\u001b[0m \u001b[0mdf\u001b[0m \u001b[0;34m=\u001b[0m \u001b[0mStockDataFrame\u001b[0m\u001b[0;34m.\u001b[0m\u001b[0mretype\u001b[0m\u001b[0;34m(\u001b[0m\u001b[0mdf\u001b[0m\u001b[0;34m)\u001b[0m\u001b[0;34m\u001b[0m\u001b[0;34m\u001b[0m\u001b[0m\n\u001b[1;32m      3\u001b[0m \u001b[0mdf\u001b[0m\u001b[0;34m[\u001b[0m\u001b[0;34m'macd'\u001b[0m\u001b[0;34m]\u001b[0m \u001b[0;34m=\u001b[0m \u001b[0mdf\u001b[0m\u001b[0;34m.\u001b[0m\u001b[0mget\u001b[0m\u001b[0;34m(\u001b[0m\u001b[0;34m'macd'\u001b[0m\u001b[0;34m)\u001b[0m \u001b[0;31m# calculate MACD\u001b[0m\u001b[0;34m\u001b[0m\u001b[0;34m\u001b[0m\u001b[0m\n",
      "\u001b[0;31mModuleNotFoundError\u001b[0m: No module named 'stockstats'"
     ]
    }
   ],
   "source": [
    "from stockstats import StockDataFrame\n",
    "df = StockDataFrame.retype(df)\n",
    "df['macd'] = df.get('macd') # calculate MACD"
   ]
  },
  {
   "cell_type": "markdown",
   "metadata": {},
   "source": [
    "stockstats adds 5 columns to dataset:\n",
    "- **close_12_ema** is fast 12 days exponential moving average,\n",
    "- **close_26_ema** is slow 26 days exponential moving average,\n",
    "- **macd** is MACD line,\n",
    "- **macds** is signal line,\n",
    "- **macdh** is MACD histogram."
   ]
  },
  {
   "cell_type": "code",
   "execution_count": 27,
   "metadata": {},
   "outputs": [
    {
     "data": {
      "text/html": [
       "<div>\n",
       "<table border=\"1\" class=\"dataframe\">\n",
       "  <thead>\n",
       "    <tr style=\"text-align: right;\">\n",
       "      <th></th>\n",
       "      <th>low</th>\n",
       "      <th>high</th>\n",
       "      <th>open</th>\n",
       "      <th>close</th>\n",
       "      <th>volumefrom</th>\n",
       "      <th>volumeto</th>\n",
       "      <th>close_12_ema</th>\n",
       "      <th>close_26_ema</th>\n",
       "      <th>macd</th>\n",
       "      <th>macds</th>\n",
       "      <th>macdh</th>\n",
       "    </tr>\n",
       "    <tr>\n",
       "      <th>datetime</th>\n",
       "      <th></th>\n",
       "      <th></th>\n",
       "      <th></th>\n",
       "      <th></th>\n",
       "      <th></th>\n",
       "      <th></th>\n",
       "      <th></th>\n",
       "      <th></th>\n",
       "      <th></th>\n",
       "      <th></th>\n",
       "      <th></th>\n",
       "    </tr>\n",
       "  </thead>\n",
       "  <tbody>\n",
       "    <tr>\n",
       "      <th>2014-11-28</th>\n",
       "      <td>360.57</td>\n",
       "      <td>381.34</td>\n",
       "      <td>363.59</td>\n",
       "      <td>376.28</td>\n",
       "      <td>8617.15</td>\n",
       "      <td>3220878.18</td>\n",
       "      <td>376.280000</td>\n",
       "      <td>376.280000</td>\n",
       "      <td>0.000000</td>\n",
       "      <td>0.000000</td>\n",
       "      <td>0.000000</td>\n",
       "    </tr>\n",
       "    <tr>\n",
       "      <th>2014-11-29</th>\n",
       "      <td>372.25</td>\n",
       "      <td>386.60</td>\n",
       "      <td>376.42</td>\n",
       "      <td>376.72</td>\n",
       "      <td>7245.19</td>\n",
       "      <td>2746157.05</td>\n",
       "      <td>376.518333</td>\n",
       "      <td>376.508462</td>\n",
       "      <td>0.009872</td>\n",
       "      <td>0.005484</td>\n",
       "      <td>0.008775</td>\n",
       "    </tr>\n",
       "    <tr>\n",
       "      <th>2014-11-30</th>\n",
       "      <td>373.32</td>\n",
       "      <td>381.99</td>\n",
       "      <td>376.57</td>\n",
       "      <td>373.34</td>\n",
       "      <td>3046.33</td>\n",
       "      <td>1145566.61</td>\n",
       "      <td>375.277829</td>\n",
       "      <td>375.370064</td>\n",
       "      <td>-0.092235</td>\n",
       "      <td>-0.034565</td>\n",
       "      <td>-0.115341</td>\n",
       "    </tr>\n",
       "    <tr>\n",
       "      <th>2014-12-01</th>\n",
       "      <td>373.03</td>\n",
       "      <td>382.31</td>\n",
       "      <td>376.40</td>\n",
       "      <td>378.39</td>\n",
       "      <td>6660.56</td>\n",
       "      <td>2520662.37</td>\n",
       "      <td>376.260220</td>\n",
       "      <td>376.214306</td>\n",
       "      <td>0.045914</td>\n",
       "      <td>-0.007302</td>\n",
       "      <td>0.106432</td>\n",
       "    </tr>\n",
       "    <tr>\n",
       "      <th>2014-12-02</th>\n",
       "      <td>375.23</td>\n",
       "      <td>382.86</td>\n",
       "      <td>378.39</td>\n",
       "      <td>379.25</td>\n",
       "      <td>6832.53</td>\n",
       "      <td>2593576.46</td>\n",
       "      <td>377.072532</td>\n",
       "      <td>376.918296</td>\n",
       "      <td>0.154236</td>\n",
       "      <td>0.040752</td>\n",
       "      <td>0.226969</td>\n",
       "    </tr>\n",
       "  </tbody>\n",
       "</table>\n",
       "</div>"
      ],
      "text/plain": [
       "               low    high    open   close  volumefrom    volumeto  close_12_ema  close_26_ema      macd     macds     macdh\n",
       "datetime                                                                                                                    \n",
       "2014-11-28  360.57  381.34  363.59  376.28     8617.15  3220878.18    376.280000    376.280000  0.000000  0.000000  0.000000\n",
       "2014-11-29  372.25  386.60  376.42  376.72     7245.19  2746157.05    376.518333    376.508462  0.009872  0.005484  0.008775\n",
       "2014-11-30  373.32  381.99  376.57  373.34     3046.33  1145566.61    375.277829    375.370064 -0.092235 -0.034565 -0.115341\n",
       "2014-12-01  373.03  382.31  376.40  378.39     6660.56  2520662.37    376.260220    376.214306  0.045914 -0.007302  0.106432\n",
       "2014-12-02  375.23  382.86  378.39  379.25     6832.53  2593576.46    377.072532    376.918296  0.154236  0.040752  0.226969"
      ]
     },
     "execution_count": 27,
     "metadata": {},
     "output_type": "execute_result"
    }
   ],
   "source": [
    "df.head()"
   ]
  },
  {
   "cell_type": "markdown",
   "metadata": {},
   "source": [
    "## Visualizing trading strategy \n",
    "\n",
    "We use bokeh interactive charts to plot the data.\n",
    "\n",
    "The line graph shows daily closing prices with candlesticks (zoom in).\n",
    "A candlestick displays the high, low, opening  and closing prices \n",
    "for a specific period. Tradeview has a great blogpost about \n",
    "[candlestick graph](https://www.investopedia.com/terms/c/candlestick.asp).\n",
    "\n",
    "Below the line graph we plot the MACD strategy with MACD line (blue), signal line (orange) and histogram (purple)."
   ]
  },
  {
   "cell_type": "code",
   "execution_count": 8,
   "metadata": {
    "scrolled": false
   },
   "outputs": [
    {
     "ename": "ModuleNotFoundError",
     "evalue": "No module named 'bokeh'",
     "output_type": "error",
     "traceback": [
      "\u001b[0;31m---------------------------------------------------------------------------\u001b[0m",
      "\u001b[0;31mModuleNotFoundError\u001b[0m                       Traceback (most recent call last)",
      "\u001b[0;32m<ipython-input-8-671f36e967a9>\u001b[0m in \u001b[0;36m<module>\u001b[0;34m\u001b[0m\n\u001b[1;32m      1\u001b[0m \u001b[0;32mfrom\u001b[0m \u001b[0mmath\u001b[0m \u001b[0;32mimport\u001b[0m \u001b[0mpi\u001b[0m\u001b[0;34m\u001b[0m\u001b[0;34m\u001b[0m\u001b[0m\n\u001b[1;32m      2\u001b[0m \u001b[0;34m\u001b[0m\u001b[0m\n\u001b[0;32m----> 3\u001b[0;31m \u001b[0;32mfrom\u001b[0m \u001b[0mbokeh\u001b[0m\u001b[0;34m.\u001b[0m\u001b[0mplotting\u001b[0m \u001b[0;32mimport\u001b[0m \u001b[0mfigure\u001b[0m\u001b[0;34m,\u001b[0m \u001b[0mshow\u001b[0m\u001b[0;34m,\u001b[0m \u001b[0moutput_notebook\u001b[0m\u001b[0;34m,\u001b[0m \u001b[0moutput_file\u001b[0m\u001b[0;34m\u001b[0m\u001b[0;34m\u001b[0m\u001b[0m\n\u001b[0m\u001b[1;32m      4\u001b[0m \u001b[0moutput_notebook\u001b[0m\u001b[0;34m(\u001b[0m\u001b[0;34m)\u001b[0m\u001b[0;34m\u001b[0m\u001b[0;34m\u001b[0m\u001b[0m\n\u001b[1;32m      5\u001b[0m \u001b[0;34m\u001b[0m\u001b[0m\n",
      "\u001b[0;31mModuleNotFoundError\u001b[0m: No module named 'bokeh'"
     ]
    }
   ],
   "source": [
    "from math import pi\n",
    "\n",
    "from bokeh.plotting import figure, show, output_notebook, output_file\n",
    "output_notebook()\n",
    "\n",
    "datetime_from = '2016-01-01 00:00'\n",
    "datetime_to = '2017-12-10 00:00'\n",
    "\n",
    "\n",
    "def get_candlestick_width(datetime_interval):\n",
    "    if datetime_interval == 'minute':\n",
    "        return 30 * 60 * 1000  # half minute in ms\n",
    "    elif datetime_interval == 'hour':\n",
    "        return 0.5 * 60 * 60 * 1000  # half hour in ms\n",
    "    elif datetime_interval == 'day':\n",
    "        return 12 * 60 * 60 * 1000  # half day in ms\n",
    "\n",
    "\n",
    "df_limit = df[datetime_from: datetime_to].copy()\n",
    "inc = df_limit.close > df_limit.open\n",
    "dec = df_limit.open > df_limit.close\n",
    "\n",
    "title = '%s datapoints from %s to %s for %s and %s from %s with MACD strategy' % (\n",
    "    datetime_interval, datetime_from, datetime_to, from_symbol, to_symbol, exchange)\n",
    "p = figure(x_axis_type=\"datetime\",  plot_width=1000, title=title)\n",
    "\n",
    "p.line(df_limit.index, df_limit.close, color='black')\n",
    "\n",
    "# plot macd strategy\n",
    "p.line(df_limit.index, 0, color='black')\n",
    "p.line(df_limit.index, df_limit.macd, color='blue')\n",
    "p.line(df_limit.index, df_limit.macds, color='orange')\n",
    "p.vbar(x=df_limit.index, bottom=[\n",
    "       0 for _ in df_limit.index], top=df_limit.macdh, width=4, color=\"purple\")\n",
    "\n",
    "# plot candlesticks\n",
    "candlestick_width = get_candlestick_width(datetime_interval)\n",
    "p.segment(df_limit.index, df_limit.high,\n",
    "          df_limit.index, df_limit.low, color=\"black\")\n",
    "p.vbar(df_limit.index[inc], candlestick_width, df_limit.open[inc],\n",
    "       df_limit.close[inc], fill_color=\"#D5E1DD\", line_color=\"black\")\n",
    "p.vbar(df_limit.index[dec], candlestick_width, df_limit.open[dec],\n",
    "       df_limit.close[dec], fill_color=\"#F2583E\", line_color=\"black\")\n",
    "\n",
    "output_file(\"visualizing_trading_strategy.html\", title=\"visualizing trading strategy\")\n",
    "show(p)"
   ]
  },
  {
   "cell_type": "code",
   "execution_count": null,
   "metadata": {},
   "outputs": [],
   "source": []
  }
 ],
 "metadata": {
  "kernelspec": {
   "display_name": "Python 3",
   "language": "python",
   "name": "python3"
  },
  "language_info": {
   "codemirror_mode": {
    "name": "ipython",
    "version": 3
   },
   "file_extension": ".py",
   "mimetype": "text/x-python",
   "name": "python",
   "nbconvert_exporter": "python",
   "pygments_lexer": "ipython3",
   "version": "3.7.3"
  }
 },
 "nbformat": 4,
 "nbformat_minor": 2
}
